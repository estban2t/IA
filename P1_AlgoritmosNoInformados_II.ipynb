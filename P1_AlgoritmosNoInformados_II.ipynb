{
 "cells": [
  {
   "cell_type": "markdown",
   "metadata": {},
   "source": [
    "# Práctica 1: Algoritmos de búsqueda no informada II"
   ]
  },
  {
   "cell_type": "markdown",
   "metadata": {},
   "source": [
    "**Ingeniería Electrónica**\n",
    "\n",
    "**Inteligencia Artificial**\n",
    "\n",
    "**07/04/2021**"
   ]
  },
  {
   "cell_type": "markdown",
   "metadata": {},
   "source": [
    "Los algoritmos de búsqueda no informada o también denominados como de búsqueda ciega no utilizan información del dominio del problema para guiar la búsqueda. Sus decisiones se basan únicamente en los estados descubiertos desde el inicio de la exploración hasta el momento en que toman una decisión.\n",
    "\n",
    "Antes de comenzar con los algoritmos, se presenta una implementación en Python del rompecabezas del 15 que puede usarse para probar sus algoritmos.\n",
    "(http://lorecioni.github.io/fifteen-puzzle-game/)"
   ]
  },
  {
   "cell_type": "markdown",
   "metadata": {},
   "source": [
    "## Resolver un problema"
   ]
  },
  {
   "cell_type": "markdown",
   "metadata": {},
   "source": [
    "Para resolver un problema vamos a requerir abstraerlo como un grafo de _estados-acciones_.\n",
    "Para los algoritmos que veremos es conveniente definir una clase en python que\n",
    "represente un estado o configuración del mundo de nuestro problema a resolver.\n",
    "La clase se denominará __EstadoProblema__.\n"
   ]
  },
  {
   "cell_type": "code",
   "execution_count": 1,
   "metadata": {},
   "outputs": [],
   "source": [
    "from abc import ABC, abstractmethod\n",
    "\n",
    "class EstadoProblema:\n",
    "    \"\"\"\n",
    "    La clase EstadoProblema es abstracta.\n",
    "    Representa un estado o configuración del problema a resolver.\n",
    "    \n",
    "    Es una interfaz simplificada para utilizarse\n",
    "    en los algoritmos de búsqueda del curso.\n",
    "    \n",
    "    Al definir un problema particular hay que implementar los métodos\n",
    "    abstractos\n",
    "    \"\"\"\n",
    "    \n",
    "    @abstractmethod\n",
    "    def expand():\n",
    "        \"\"\"\n",
    "        :return: el conjunto de estados sucesores\n",
    "        \"\"\"\n",
    "        pass\n",
    "    \n",
    "    @abstractmethod\n",
    "    def get_depth():\n",
    "        \"\"\"\n",
    "        :return: la profundidad del estado\n",
    "        \"\"\"\n",
    "        pass\n",
    "        \n",
    "    @abstractmethod\n",
    "    def get_parent():\n",
    "        \"\"\"\n",
    "        :return: referencia al estado predecesor o padre\n",
    "        \"\"\"\n",
    "        pass\n"
   ]
  },
  {
   "cell_type": "markdown",
   "metadata": {},
   "source": [
    "## El rompecabezas del 15"
   ]
  },
  {
   "cell_type": "markdown",
   "metadata": {},
   "source": [
    "Para ilustrar los algoritmos utilizaremos el juego del rompecabezas del 15.\n",
    "\n",
    "Para ello, se ha preparado una implementación simple en Python, la clase __Puzzle__.\n",
    "\n",
    "El juego extenderá de la clase __EstadoProblema__."
   ]
  },
  {
   "cell_type": "code",
   "execution_count": 2,
   "metadata": {},
   "outputs": [],
   "source": [
    "from functools import reduce\n",
    "import random\n",
    "\n",
    "# La secuencia del 0 al 15\n",
    "# 0 representará el espacio en blanco\n",
    "seq = list(range(0,16))\n",
    "\n",
    "# Cuatro posibles acciones para nuestro agente\n",
    "# Mover una ficha en dirección: \n",
    "# izquierda (E), derecha (W), arriba (N), o abajo (S)\n",
    "actions = ['E','W','N','S']\n",
    "\n",
    "# Representaremos las configuraciones con bits\n",
    "# Definimos algunas funciones útiles\n",
    "# Recorre un bloque de 4 bits de unos a la posición i\n",
    "x_mask = lambda i: 15<<(4*i)\n",
    "\n",
    "# Extrae los cuatro bits que están en la posción i\n",
    "# en la configuración c\n",
    "# El rompecabezas tiene 16 posiciones (16X4 = 64 bits)\n",
    "extract = lambda i,c: (c&(x_mask(i)))>>(4*i)\n",
    "\n",
    "# Verifica si la posición z es la última columna\n",
    "e_most = lambda z: (z%4)==3\n",
    "\n",
    "# Verifica si la posición z es la primera columna\n",
    "w_most = lambda z: (z%4)==0\n",
    "\n",
    "# Verifica si la posición z es el primer renglón\n",
    "n_most = lambda z: z<=3\n",
    "\n",
    "# Verifica si la posición z es el último renglón\n",
    "s_most = lambda z:z>=12\n",
    "\n",
    "# Establecemos un diccionario con las acciones posibles\n",
    "# para cada posición del rompecabezas\n",
    "valid_moves = {i:list(filter(lambda action:\\\n",
    "((not action=='E') or (not e_most(i))) and \\\n",
    "((not action=='W') or (not w_most(i))) and \\\n",
    "((not action=='S') or (not s_most(i))) and \\\n",
    "((not action=='N') or (not n_most(i))),actions)) for i in seq}\n",
    "\n",
    "# Realiza el movimiento hacía la izquierda\n",
    "def move_east(puzzle):\n",
    "    \"\"\"\n",
    "    :param puzzle: el rompecabezas\n",
    "    \"\"\"\n",
    "    if(not e_most(puzzle.zero)):\n",
    "        puzzle.zero += 1;\n",
    "        mask = x_mask(puzzle.zero)\n",
    "        puzzle.configuration = \\\n",
    "        (puzzle.configuration&mask)>>4 | \\\n",
    "        (puzzle.configuration&~mask)\n",
    "\n",
    "# Realiza el movimiento hacía la derecha\n",
    "def move_west(puzzle):\n",
    "    if(not w_most(puzzle.zero)):\n",
    "        puzzle.zero -= 1;\n",
    "        mask = x_mask(puzzle.zero)\n",
    "        puzzle.configuration = \\\n",
    "        (puzzle.configuration&mask)<<4 | \\\n",
    "        (puzzle.configuration&~mask)\n",
    "\n",
    "# Realiza el movimiento hacía arriba\n",
    "def move_north(puzzle):\n",
    "    if(not n_most(puzzle.zero)):\n",
    "        puzzle.zero -= 4;\n",
    "        mask = x_mask(puzzle.zero)\n",
    "        puzzle.configuration = \\\n",
    "        (puzzle.configuration&mask)<<16 | \\\n",
    "        (puzzle.configuration&~mask)\n",
    "\n",
    "# Realiza el movimiento hacía abajo\n",
    "def move_south(puzzle):\n",
    "    if(not s_most(puzzle.zero)):\n",
    "        puzzle.zero += 4;\n",
    "        mask = x_mask(puzzle.zero)\n",
    "        puzzle.configuration = \\\n",
    "        (puzzle.configuration&mask)>>16 | \\\n",
    "        (puzzle.configuration&~mask)\n",
    "\n",
    "class Puzzle(EstadoProblema):\n",
    "    \"\"\"\n",
    "    Rompecabezas del 15\n",
    "    \"\"\"\n",
    "    \n",
    "    \n",
    "    def __init__(self, parent=None, action =None, depth=0):\n",
    "        \"\"\"\n",
    "        Puede crearse un rompecabezas ordenado al no especificar\n",
    "        parámetros del constructor.\n",
    "        También se puede crear una nueva configuración a \n",
    "        partir de una configuración dada en parent.\n",
    "        :param parent: configuración de referencia.\n",
    "        :param action: la acción que se aplica a parent para\n",
    "        generar la configuración sucesora.\n",
    "        :depth la profundidad del estado a crear\n",
    "        \"\"\"\n",
    "        self.parent = parent\n",
    "        self.depth = depth\n",
    "        if(parent == None):\n",
    "            self.configuration =  \\\n",
    "                reduce(lambda x,y: x | (y << 4*(y-1)), seq)\n",
    "            # posición del cero\n",
    "            self.zero = 15\n",
    "        else:\n",
    "            self.configuration = parent.configuration\n",
    "            self.zero = parent.zero\n",
    "            if(action != None):\n",
    "                self.move(action)\n",
    "\n",
    "    def __str__(self):\n",
    "        \"\"\"\n",
    "        :return: un string que representa \n",
    "        la configuración del rompecabezas\n",
    "        \"\"\"\n",
    "        return '\\n'+''.join(list(map(lambda i:\\\n",
    "        format(extract(i,self.configuration),\" x\")+\\\n",
    "        ('\\n' if (i+1)%4==0 else ''),seq)))+'\\n'\n",
    "\n",
    "    def __repr__(self):\n",
    "        \"\"\"\n",
    "        :return: representación texto de la configuración\n",
    "        \"\"\"\n",
    "        return self.__str__()\n",
    "\n",
    "    def __eq__(self,other):\n",
    "        \"\"\"\n",
    "        :param other: la otra configuración con la que se comparará\n",
    "        el objeto\n",
    "        :return: verdadero cuando el objeto y el parámetro\n",
    "        tienen la misma configuración.\n",
    "        \"\"\"\n",
    "        return (isinstance(other, self.__class__)) and \\\n",
    "        (self.configuration==other.configuration)\n",
    "\n",
    "    def __ne__(self,other):\n",
    "        \"\"\"\n",
    "        :param other: la otra configuración con la que se comparará\n",
    "        el objeto\n",
    "        :return: verdadero cuando el objeto y el parámetro\n",
    "        no tienen la misma configuración\n",
    "        \"\"\"\n",
    "        return not self.__eq__(other)\n",
    "        \n",
    "    def __lt__(self,other):\n",
    "        \"\"\"\n",
    "        :param other: la otra configuración con la que se comparará\n",
    "        el objeto\n",
    "        :return: verdadero cuando la profundidad del objeto\n",
    "        es menor que la del argumento\n",
    "        \"\"\"\n",
    "        return self.depth < other.depth\n",
    "\n",
    "    def __hash__(self):\n",
    "        \"\"\"\n",
    "        :return: un número hash para poder usar la configuración en \n",
    "        un diccionario, delegamos al hash de un entero\n",
    "        \"\"\"\n",
    "        return hash(self.configuration)\n",
    "\n",
    "    def move(self,action):\n",
    "        \"\"\"\n",
    "        Realiza un movimiento de ficha.\n",
    "        Debemos imaginar que el espacio se mueve en la dirección\n",
    "        especificada por acción\n",
    "        :param action: la acción a realizar\n",
    "        \"\"\"\n",
    "        if(action =='E'):\n",
    "            move_east(self)\n",
    "        if(action =='W'):\n",
    "            move_west(self)\n",
    "        if(action =='N'):\n",
    "            move_north(self)\n",
    "        if(action =='S'):\n",
    "            move_south(self)\n",
    "        return self\n",
    "\n",
    "\n",
    "    @staticmethod\n",
    "    def to_list(puzzle):\n",
    "        \"\"\"\n",
    "        Convertimos la configuración a una lista de números\n",
    "        :param puzzle: la configuración a convertir\n",
    "        :return la lista con enteros\n",
    "        \"\"\"\n",
    "        return [extract(i,puzzle.configuration) for i in seq]\n",
    "\n",
    "    def shuffle(self,n):\n",
    "        \"\"\"\n",
    "        Desordena de manera aleatoria el rompecabezas.\n",
    "        :param n: el número de movimientos aleatorios a aplicar\n",
    "        \"\"\"\n",
    "        for i in range(0,n):\n",
    "            self.move(random.choice(valid_moves[self.zero]))\n",
    "        return self\n",
    "\n",
    "    def expand(self):\n",
    "        \"\"\"\n",
    "        Los sucesores del estado, quitamos el estado padre\n",
    "        \"\"\"\n",
    "        #filtering the path back to parent\n",
    "        return list(filter(lambda x: \\\n",
    "        (x!=self.parent), \\\n",
    "        [Puzzle(self,action,self.depth+1) \\\n",
    "        for action in valid_moves[self.zero]]))\n",
    "    \n",
    "    def get_depth(self):\n",
    "        \"\"\"\n",
    "        :return: la profundidad del estado\n",
    "        \"\"\"\n",
    "        return self.depth\n",
    "    \n",
    "    def get_parent(self):\n",
    "        \"\"\"\n",
    "        :return: el nodo predecesor (padre) del estado \n",
    "        \"\"\"\n",
    "        return self.parent"
   ]
  },
  {
   "cell_type": "markdown",
   "metadata": {},
   "source": [
    "Vamos a crear una instancia de la clase."
   ]
  },
  {
   "cell_type": "code",
   "execution_count": 3,
   "metadata": {},
   "outputs": [
    {
     "name": "stdout",
     "output_type": "stream",
     "text": [
      "Configuración:\n",
      " \n",
      " 1 2 3 4\n",
      " 5 6 7 8\n",
      " 9 a b c\n",
      " d e f 0\n",
      "\n",
      "\n",
      "Profundidad:\n",
      " 0\n",
      "Estado predecesor:\n",
      " None\n"
     ]
    }
   ],
   "source": [
    "# No indicamos un padre, \n",
    "# el rompecabezas estará ordenado\n",
    "# y su profundidad será cero\n",
    "puzzle = Puzzle()\n",
    "print(\"Configuración:\\n\",puzzle)\n",
    "print(\"Profundidad:\\n\",puzzle.get_depth())\n",
    "print(\"Estado predecesor:\\n\",puzzle.get_parent())"
   ]
  },
  {
   "cell_type": "markdown",
   "metadata": {},
   "source": [
    "Para revolver el estado de manera aleatoria podemos invocar al método _shuffle_."
   ]
  },
  {
   "cell_type": "code",
   "execution_count": 4,
   "metadata": {},
   "outputs": [
    {
     "name": "stdout",
     "output_type": "stream",
     "text": [
      "Rompecabezas revuelto:\n",
      " \n",
      " 1 2 3 4\n",
      " 5 6 7 8\n",
      " 9 e a b\n",
      " d 0 f c\n",
      "\n",
      "\n"
     ]
    }
   ],
   "source": [
    "puzzle.shuffle(10)\n",
    "print(\"Rompecabezas revuelto:\\n\",puzzle)"
   ]
  },
  {
   "cell_type": "markdown",
   "metadata": {},
   "source": [
    "## Estructuras de datos"
   ]
  },
  {
   "cell_type": "markdown",
   "metadata": {},
   "source": [
    "A continuación se presentan algunas estructuras de datos que servirán para la implementación de los algoritmos de búsqueda."
   ]
  },
  {
   "cell_type": "markdown",
   "metadata": {},
   "source": [
    "### Pilas"
   ]
  },
  {
   "cell_type": "markdown",
   "metadata": {},
   "source": [
    "Para implementar las pilas se puede utilizar la clase __deque__ definida en el paquete _collections_."
   ]
  },
  {
   "cell_type": "code",
   "execution_count": 1,
   "metadata": {},
   "outputs": [
    {
     "name": "stdout",
     "output_type": "stream",
     "text": [
      "deque([1, 2, 3])\n"
     ]
    }
   ],
   "source": [
    "from collections import deque\n",
    "# Vamos a usar deque como una pila\n",
    "pila = deque()\n",
    "# Agreguemos tres estados\n",
    "pila.append(1)\n",
    "pila.append(2)\n",
    "pila.append(3)\n",
    "# imprimimos el estado de la pila\n",
    "print(pila)\n",
    "\n"
   ]
  },
  {
   "cell_type": "markdown",
   "metadata": {},
   "source": [
    "Ahora vamos a sacar el elemento en el tope."
   ]
  },
  {
   "cell_type": "code",
   "execution_count": 6,
   "metadata": {},
   "outputs": [
    {
     "name": "stdout",
     "output_type": "stream",
     "text": [
      "3\n"
     ]
    }
   ],
   "source": [
    "# sacamos el tope\n",
    "tope = pila.pop()\n",
    "print(tope)"
   ]
  },
  {
   "cell_type": "code",
   "execution_count": 7,
   "metadata": {},
   "outputs": [
    {
     "name": "stdout",
     "output_type": "stream",
     "text": [
      "2\n"
     ]
    }
   ],
   "source": [
    "# volvemos a sacar del tope\n",
    "tope = pila.pop()\n",
    "print(tope)"
   ]
  },
  {
   "cell_type": "code",
   "execution_count": 8,
   "metadata": {},
   "outputs": [
    {
     "name": "stdout",
     "output_type": "stream",
     "text": [
      "deque([1])\n"
     ]
    }
   ],
   "source": [
    "# imprimimos el estado de la pila\n",
    "print(pila)"
   ]
  },
  {
   "cell_type": "code",
   "execution_count": 9,
   "metadata": {},
   "outputs": [
    {
     "name": "stdout",
     "output_type": "stream",
     "text": [
      "el tope: 1\n",
      "la pila: deque([1])\n"
     ]
    }
   ],
   "source": [
    "# una operación importante de las pilas es \n",
    "# consultar el tope sin sacarlo\n",
    "# esto es la operacion peek\n",
    "# para ello solo consultamos el elemento\n",
    "# con posición -1\n",
    "tope = pila[-1]\n",
    "print(\"el tope:\",tope)\n",
    "print(\"la pila:\",pila)\n"
   ]
  },
  {
   "cell_type": "markdown",
   "metadata": {},
   "source": [
    "### Colas"
   ]
  },
  {
   "cell_type": "markdown",
   "metadata": {},
   "source": [
    "Para implementar la cola usamos __deque__ también."
   ]
  },
  {
   "cell_type": "code",
   "execution_count": 10,
   "metadata": {},
   "outputs": [
    {
     "name": "stdout",
     "output_type": "stream",
     "text": [
      "cola: deque([1, 2, 3])\n"
     ]
    }
   ],
   "source": [
    "# creamos la cola\n",
    "cola = deque()\n",
    "cola.append(1)\n",
    "cola.append(2)\n",
    "cola.append(3)\n",
    "print(\"cola:\",cola)"
   ]
  },
  {
   "cell_type": "markdown",
   "metadata": {},
   "source": [
    "Para sacar el frente de la cola usamos el método _popleft_"
   ]
  },
  {
   "cell_type": "code",
   "execution_count": 11,
   "metadata": {},
   "outputs": [
    {
     "name": "stdout",
     "output_type": "stream",
     "text": [
      "frente: 1\n",
      "cola: deque([2, 3])\n"
     ]
    }
   ],
   "source": [
    "# sacamos el elemento al frente\n",
    "frente = cola.popleft()\n",
    "print(\"frente:\",frente)\n",
    "print(\"cola:\",cola)"
   ]
  },
  {
   "cell_type": "markdown",
   "metadata": {},
   "source": [
    "### Conjuntos (Hash sets)"
   ]
  },
  {
   "cell_type": "markdown",
   "metadata": {},
   "source": [
    "Los conjuntos en python se crean con la clase __set__."
   ]
  },
  {
   "cell_type": "code",
   "execution_count": 12,
   "metadata": {},
   "outputs": [
    {
     "name": "stdout",
     "output_type": "stream",
     "text": [
      "conjunto: {1, 2, 3}\n"
     ]
    }
   ],
   "source": [
    "# Creamos un conjunto vacío\n",
    "conjunto = set()\n",
    "# agregamos algunos elementos al conjunto\n",
    "conjunto.add(1)\n",
    "conjunto.add(2)\n",
    "conjunto.add(3)\n",
    "print(\"conjunto:\",conjunto)"
   ]
  },
  {
   "cell_type": "markdown",
   "metadata": {},
   "source": [
    "Para verificar pertenencia usamos la palabra reservada _in_."
   ]
  },
  {
   "cell_type": "code",
   "execution_count": 13,
   "metadata": {},
   "outputs": [
    {
     "name": "stdout",
     "output_type": "stream",
     "text": [
      "¿está 4 en el conjunto? False\n",
      "¿está 3 en el conjunto? True\n"
     ]
    }
   ],
   "source": [
    "print(\"¿está 4 en el conjunto?\",4 in conjunto)\n",
    "print(\"¿está 3 en el conjunto?\", 3 in conjunto)"
   ]
  },
  {
   "cell_type": "markdown",
   "metadata": {},
   "source": [
    "Para remover un elemento del conjunto usamos la función _remove_."
   ]
  },
  {
   "cell_type": "code",
   "execution_count": 14,
   "metadata": {},
   "outputs": [
    {
     "name": "stdout",
     "output_type": "stream",
     "text": [
      "conjunto: {1, 3}\n"
     ]
    }
   ],
   "source": [
    "# Eliminamos al 2 del conjunto\n",
    "conjunto.remove(2)\n",
    "print(\"conjunto:\",conjunto)"
   ]
  },
  {
   "cell_type": "markdown",
   "metadata": {},
   "source": [
    "Podemos unir conjuntos con el método _union_ en __set__."
   ]
  },
  {
   "cell_type": "code",
   "execution_count": 15,
   "metadata": {},
   "outputs": [
    {
     "name": "stdout",
     "output_type": "stream",
     "text": [
      "A: {1, 3, 5}\n",
      "B: {8, 9, 5}\n",
      "Union de A y B: {1, 3, 5, 8, 9}\n"
     ]
    }
   ],
   "source": [
    "A = {1,3,5} \n",
    "B = {5,8,9}\n",
    "C = A.union(B)\n",
    "print(\"A:\",A)\n",
    "print(\"B:\",B)\n",
    "print(\"Union de A y B:\",C)"
   ]
  },
  {
   "cell_type": "markdown",
   "metadata": {},
   "source": [
    "Podemos intersectar conjuntos con el método _intersection_ de __set__."
   ]
  },
  {
   "cell_type": "code",
   "execution_count": 16,
   "metadata": {},
   "outputs": [
    {
     "name": "stdout",
     "output_type": "stream",
     "text": [
      "Intersección de A y B: {5}\n"
     ]
    }
   ],
   "source": [
    "D = A.intersection(B)\n",
    "print(\"Intersección de A y B:\",D)"
   ]
  },
  {
   "cell_type": "markdown",
   "metadata": {},
   "source": [
    "### Tablas de dispersión o diccionarios"
   ]
  },
  {
   "cell_type": "markdown",
   "metadata": {},
   "source": [
    "Los diccionarios de python nos permiten asociar parejas de objetos.\n",
    "El primer elemento de una pareja es la llave, el segundo elemento es el valor."
   ]
  },
  {
   "cell_type": "code",
   "execution_count": 17,
   "metadata": {},
   "outputs": [
    {
     "name": "stdout",
     "output_type": "stream",
     "text": [
      "diccionario vacío: {}\n"
     ]
    }
   ],
   "source": [
    "# Crear un diccionario vacío\n",
    "diccionario = {}\n",
    "print(\"diccionario vacío:\",diccionario)"
   ]
  },
  {
   "cell_type": "code",
   "execution_count": 18,
   "metadata": {},
   "outputs": [
    {
     "name": "stdout",
     "output_type": "stream",
     "text": [
      "diccionario: {1: 'uno'}\n"
     ]
    }
   ],
   "source": [
    "# vamos a asociar el dígito 1 con su nombre\n",
    "diccionario[1] = \"uno\"\n",
    "print(\"diccionario:\",diccionario)"
   ]
  },
  {
   "cell_type": "code",
   "execution_count": 19,
   "metadata": {},
   "outputs": [
    {
     "name": "stdout",
     "output_type": "stream",
     "text": [
      "diccionario: {1: 'uno', 2: 'dos', 5: 'cinco', 9: 'nueve'}\n"
     ]
    }
   ],
   "source": [
    "# agreguemos algunas otras asociaciones\n",
    "diccionario[2] = \"dos\"\n",
    "diccionario[5] = \"cinco\"\n",
    "diccionario[9] = \"nueve\"\n",
    "print(\"diccionario:\",diccionario)"
   ]
  },
  {
   "cell_type": "markdown",
   "metadata": {},
   "source": [
    "Podemos verificar si una llave esta en el diccionario con la palabra reservada _in_."
   ]
  },
  {
   "cell_type": "code",
   "execution_count": 20,
   "metadata": {},
   "outputs": [
    {
     "name": "stdout",
     "output_type": "stream",
     "text": [
      "¿está el número 2 como llave en el diccionario? True\n",
      "¿está el número 7 como llave en el diccionario? False\n"
     ]
    }
   ],
   "source": [
    "print(\"¿está el número 2 como llave en el diccionario?\",2 in diccionario)\n",
    "print(\"¿está el número 7 como llave en el diccionario?\",7 in diccionario)"
   ]
  },
  {
   "cell_type": "markdown",
   "metadata": {},
   "source": [
    "Para extraer el valor asociado a una llave, usamos los corchetes."
   ]
  },
  {
   "cell_type": "code",
   "execution_count": 21,
   "metadata": {},
   "outputs": [
    {
     "name": "stdout",
     "output_type": "stream",
     "text": [
      "El valor asocidado a la llave 2 es: dos\n"
     ]
    }
   ],
   "source": [
    "print(\"El valor asocidado a la llave 2 es:\",diccionario[2])"
   ]
  },
  {
   "cell_type": "markdown",
   "metadata": {},
   "source": [
    "### Colas de prioridad"
   ]
  },
  {
   "cell_type": "markdown",
   "metadata": {},
   "source": [
    "Las colas de prioridad son muy eficientes para obtener el elemento de mayor prioridad.\n",
    "En python usamos la clase __heapq__.\n"
   ]
  },
  {
   "cell_type": "code",
   "execution_count": 22,
   "metadata": {},
   "outputs": [
    {
     "name": "stdout",
     "output_type": "stream",
     "text": [
      "la cola tras las inserciones: [(1, 'adios'), (5, 'mundo'), (3, 'hola')]\n",
      "Elemento de mayor prioridad: (1, 'adios')\n"
     ]
    }
   ],
   "source": [
    "from heapq import heappush as push\n",
    "from heapq import heappop as pop\n",
    "\n",
    "# creamos la cola vacía\n",
    "colap = []\n",
    "# agregamos un elemento indicando la prioridad (primer elemento de la tupla)\n",
    "push(colap,(3,\"hola\"))\n",
    "# agregamos un segundo elemento\n",
    "push(colap,(5,\"mundo\"))\n",
    "# uno más\n",
    "push(colap,(1,\"adios\"))\n",
    "# imprimimos la cola\n",
    "print(\"la cola tras las inserciones:\",colap)\n",
    "# extraemos el elemento de mayor prioridad (menor valor)\n",
    "# en este caso el de prioridad 1\n",
    "p = pop(colap)\n",
    "print(\"Elemento de mayor prioridad:\",p)"
   ]
  },
  {
   "cell_type": "code",
   "execution_count": 23,
   "metadata": {},
   "outputs": [
    {
     "name": "stdout",
     "output_type": "stream",
     "text": [
      "Elemento de mayor prioridad: (3, 'hola')\n"
     ]
    }
   ],
   "source": [
    "# El siguiente elemento:\n",
    "p = pop(colap)\n",
    "print(\"Elemento de mayor prioridad:\",p)"
   ]
  },
  {
   "cell_type": "code",
   "execution_count": 24,
   "metadata": {},
   "outputs": [
    {
     "name": "stdout",
     "output_type": "stream",
     "text": [
      "[(5, 'mundo')]\n"
     ]
    }
   ],
   "source": [
    "print(colap)"
   ]
  },
  {
   "cell_type": "markdown",
   "metadata": {},
   "source": [
    "## Algoritmo BFS"
   ]
  },
  {
   "cell_type": "markdown",
   "metadata": {},
   "source": [
    "Se ilustra cómo implementar el algoritmo __BFS__ para resolver el rompecabezas del 15.\n",
    "\n",
    "Comenzaremos por definir la función _trajectory_ para recuperar la ruta a partir del nodo meta."
   ]
  },
  {
   "cell_type": "code",
   "execution_count": 25,
   "metadata": {},
   "outputs": [],
   "source": [
    "from collections import deque\n",
    "\n",
    "# trajectory nos regresará la trayectoria a partir de un estado\n",
    "def trajectory(end):\n",
    "    # nos valemos de un deque para almacenar la ruta\n",
    "    sequence = deque()\n",
    "    # agregamos el estado final o meta\n",
    "    sequence.append(end)\n",
    "    # nos vamos regresando al estado predecesor mientras este exista\n",
    "    while end.get_parent():\n",
    "        # nos movemos al predecesor\n",
    "        end = end.get_parent()\n",
    "        # lo agregamos a la lista\n",
    "        sequence.append(end)\n",
    "    # invertimos el orden de la secuencia\n",
    "    sequence.reverse()\n",
    "    # lo regresamos como una lista\n",
    "    return list(sequence)\n"
   ]
  },
  {
   "cell_type": "markdown",
   "metadata": {},
   "source": [
    "Por ejemplo vamos a crear un nuevo rompecabezas del 15 ordenado."
   ]
  },
  {
   "cell_type": "code",
   "execution_count": 26,
   "metadata": {},
   "outputs": [
    {
     "name": "stdout",
     "output_type": "stream",
     "text": [
      "ordenado: \n",
      " 1 2 3 4\n",
      " 5 6 7 8\n",
      " 9 a b c\n",
      " d e f 0\n",
      "\n",
      "\n",
      "la profundidad del estado ordenado: 0\n"
     ]
    }
   ],
   "source": [
    "ordenado = Puzzle()\n",
    "print(\"ordenado:\",ordenado)\n",
    "print(\"la profundidad del estado ordenado:\",ordenado.get_depth())"
   ]
  },
  {
   "cell_type": "markdown",
   "metadata": {},
   "source": [
    "Ahora vamos a expandir la configuración y tomamos el primer elemento de la lista de sucesores."
   ]
  },
  {
   "cell_type": "code",
   "execution_count": 27,
   "metadata": {},
   "outputs": [
    {
     "name": "stdout",
     "output_type": "stream",
     "text": [
      "sucesores del estado ordenado: [\n",
      " 1 2 3 4\n",
      " 5 6 7 8\n",
      " 9 a b c\n",
      " d e 0 f\n",
      "\n",
      ", \n",
      " 1 2 3 4\n",
      " 5 6 7 8\n",
      " 9 a b 0\n",
      " d e f c\n",
      "\n",
      "]\n"
     ]
    }
   ],
   "source": [
    "#Obtenemos los sucesores del estado ordenado\n",
    "sucesores = ordenado.expand() \n",
    "# imprimimos los sucesores\n",
    "print(\"sucesores del estado ordenado:\",sucesores)"
   ]
  },
  {
   "cell_type": "markdown",
   "metadata": {},
   "source": [
    "Podemos ver que hay dos sucesores.\n",
    "Tomemos el primero y calculemos sus sucesores."
   ]
  },
  {
   "cell_type": "code",
   "execution_count": 28,
   "metadata": {},
   "outputs": [
    {
     "name": "stdout",
     "output_type": "stream",
     "text": [
      "el primer sucesor del estado ordenado: \n",
      " 1 2 3 4\n",
      " 5 6 7 8\n",
      " 9 a b c\n",
      " d e 0 f\n",
      "\n",
      "\n",
      "su profundidad: 1\n",
      "los sucesores del primer sucesor: [\n",
      " 1 2 3 4\n",
      " 5 6 7 8\n",
      " 9 a b c\n",
      " d 0 e f\n",
      "\n",
      ", \n",
      " 1 2 3 4\n",
      " 5 6 7 8\n",
      " 9 a 0 c\n",
      " d e b f\n",
      "\n",
      "]\n"
     ]
    }
   ],
   "source": [
    "# el primer sucesor\n",
    "primer_sucesor = sucesores[0]\n",
    "print(\"el primer sucesor del estado ordenado:\",primer_sucesor)\n",
    "# imprimimos su profundidad\n",
    "print(\"su profundidad:\",primer_sucesor.get_depth())\n",
    "# sucesores del primer sucesor del estado ordenado\n",
    "sucesores_primer_sucesor = primer_sucesor.expand()\n",
    "# imprimimos los sucesores a profundidad \n",
    "print(\"los sucesores del primer sucesor:\",sucesores_primer_sucesor)"
   ]
  },
  {
   "cell_type": "markdown",
   "metadata": {},
   "source": [
    "Tomemos el primer sucesor del primer sucesor."
   ]
  },
  {
   "cell_type": "code",
   "execution_count": 29,
   "metadata": {},
   "outputs": [
    {
     "name": "stdout",
     "output_type": "stream",
     "text": [
      "primer sucesor del primer sucesor: \n",
      " 1 2 3 4\n",
      " 5 6 7 8\n",
      " 9 a b c\n",
      " d 0 e f\n",
      "\n",
      "\n"
     ]
    }
   ],
   "source": [
    "primer_sucesor_primer_sucesor = sucesores_primer_sucesor[0]\n",
    "print(\"primer sucesor del primer sucesor:\",primer_sucesor_primer_sucesor)"
   ]
  },
  {
   "cell_type": "markdown",
   "metadata": {},
   "source": [
    "Con la función trayectory podemos extraer la ruta desde el estado ordenado."
   ]
  },
  {
   "cell_type": "code",
   "execution_count": 30,
   "metadata": {},
   "outputs": [
    {
     "name": "stdout",
     "output_type": "stream",
     "text": [
      "ruta desde el estado ordenado:  [\n",
      " 1 2 3 4\n",
      " 5 6 7 8\n",
      " 9 a b c\n",
      " d e f 0\n",
      "\n",
      ", \n",
      " 1 2 3 4\n",
      " 5 6 7 8\n",
      " 9 a b c\n",
      " d e 0 f\n",
      "\n",
      ", \n",
      " 1 2 3 4\n",
      " 5 6 7 8\n",
      " 9 a b c\n",
      " d 0 e f\n",
      "\n",
      "]\n"
     ]
    }
   ],
   "source": [
    "ruta = trajectory(primer_sucesor_primer_sucesor)\n",
    "print(\"ruta desde el estado ordenado: \",ruta)"
   ]
  },
  {
   "cell_type": "markdown",
   "metadata": {},
   "source": [
    "A continuación la implementación del algoritmo BFS."
   ]
  },
  {
   "cell_type": "code",
   "execution_count": 31,
   "metadata": {},
   "outputs": [],
   "source": [
    "class BFS:\n",
    "\n",
    "    @staticmethod    \n",
    "    def search(start,stop):\n",
    "        \"\"\"\n",
    "        Realiza la búsqueda primero en anchura\n",
    "        :param start: el estado inicial\n",
    "        :param stop: una función de paro\n",
    "        \"\"\"\n",
    "        # usamos deque para la agenda que será una cola\n",
    "        agenda = deque()\n",
    "        # un conjunto basado en tabla de dispersión para\n",
    "        # registrar los estados expandidos\n",
    "        explored = set()\n",
    "        # verificamos la condición trivial\n",
    "        if(stop(start)):\n",
    "            # regresamos la ruta trivial\n",
    "            return trajectory(start)\n",
    "        # agregamos el primer estado a la agenda\n",
    "        agenda.append(start)\n",
    "        # mientras la agenda tenga elementos\n",
    "        while(agenda):\n",
    "            # sacamos el elemento al frente de la cola\n",
    "            nodo = agenda.popleft()\n",
    "            # lo agregamos a los expandidos\n",
    "            explored.add(nodo)\n",
    "            # para cada sucesor del nodo\n",
    "            for child in nodo.expand():\n",
    "                # si el sucesor es la meta \n",
    "                if stop(child):\n",
    "                    # recuperamos la ruta y la regresamos\n",
    "                    return trajectory(child)\n",
    "                # si el nodo no se ha previamente expandido\n",
    "                elif not child in explored:\n",
    "                    # agregamos los sucesores a la agenda\n",
    "                    agenda.append(child)\n",
    "        # en caso de que no haya ruta\n",
    "        # (instrucción redundante)\n",
    "        return None"
   ]
  },
  {
   "cell_type": "markdown",
   "metadata": {},
   "source": [
    "Vamos a probar el algoritmo BFS.\n",
    "Para ello revolvemos 5 movimientos aleatorios."
   ]
  },
  {
   "cell_type": "code",
   "execution_count": 32,
   "metadata": {},
   "outputs": [
    {
     "name": "stdout",
     "output_type": "stream",
     "text": [
      "rompecabezas desordenado: \n",
      " 1 2 3 4\n",
      " 0 5 7 8\n",
      " 9 6 a b\n",
      " d e f c\n",
      "\n",
      "\n"
     ]
    }
   ],
   "source": [
    "# Un nuevo rompecabezas\n",
    "puzzle = Puzzle()\n",
    "# 20 movimeintos aleatorios\n",
    "puzzle.shuffle(5)\n",
    "print(\"rompecabezas desordenado:\",puzzle)"
   ]
  },
  {
   "cell_type": "markdown",
   "metadata": {},
   "source": [
    "Invocamos al metodo _search_ de nuestra clase BFS.\n",
    "La condición de paro es que el rompecabezas esté ordenado."
   ]
  },
  {
   "cell_type": "code",
   "execution_count": 33,
   "metadata": {},
   "outputs": [
    {
     "name": "stdout",
     "output_type": "stream",
     "text": [
      "[\n",
      " 1 2 3 4\n",
      " 0 5 7 8\n",
      " 9 6 a b\n",
      " d e f c\n",
      "\n",
      ", \n",
      " 1 2 3 4\n",
      " 5 0 7 8\n",
      " 9 6 a b\n",
      " d e f c\n",
      "\n",
      ", \n",
      " 1 2 3 4\n",
      " 5 6 7 8\n",
      " 9 0 a b\n",
      " d e f c\n",
      "\n",
      ", \n",
      " 1 2 3 4\n",
      " 5 6 7 8\n",
      " 9 a 0 b\n",
      " d e f c\n",
      "\n",
      ", \n",
      " 1 2 3 4\n",
      " 5 6 7 8\n",
      " 9 a b 0\n",
      " d e f c\n",
      "\n",
      ", \n",
      " 1 2 3 4\n",
      " 5 6 7 8\n",
      " 9 a b c\n",
      " d e f 0\n",
      "\n",
      "]\n"
     ]
    }
   ],
   "source": [
    "# la función de paro evalua a cierto cuando el estado es igual al rompecabezas ordenado\n",
    "ruta = BFS.search(puzzle,lambda s:s==Puzzle())\n",
    "# imprimimos la ruta\n",
    "print(ruta)"
   ]
  },
  {
   "cell_type": "markdown",
   "metadata": {},
   "source": [
    "## Algoritmo DFS"
   ]
  },
  {
   "cell_type": "markdown",
   "metadata": {},
   "source": [
    "Para implementar el algoritmo DFS solo habría que cambiar una línea de código.\n",
    "Identificar dicha línea y proponer la nueva."
   ]
  },
  {
   "cell_type": "code",
   "execution_count": null,
   "metadata": {},
   "outputs": [],
   "source": []
  },
  {
   "cell_type": "markdown",
   "metadata": {},
   "source": [
    "## Algoritmo DLS"
   ]
  },
  {
   "cell_type": "markdown",
   "metadata": {},
   "source": [
    "En el algoritmo DLS vamos a acotar la profundidad de los estados visitados. \n",
    "No podremos exandir nodos más allá de la cota establecida.\n",
    "A continuación una implementación recursiva del algoritmo."
   ]
  },
  {
   "cell_type": "code",
   "execution_count": 34,
   "metadata": {},
   "outputs": [],
   "source": [
    "class DLS:\n",
    "    \"\"\"\n",
    "    Implementación del algoritmo de profundidad limitada\n",
    "    \"\"\"\n",
    "    @staticmethod\n",
    "    def search(origen,stop,prof_max):\n",
    "        \"\"\"\n",
    "        Método de búsqueda\n",
    "        :param origen: el estado inicial\n",
    "        :param stop: la función de paro\n",
    "        :param prof_max: la cota de profundidad\n",
    "        \"\"\"\n",
    "        # condición base si el origen es la meta nos detenemos\n",
    "        # recuperando la ruta\n",
    "        if(stop(origen)):\n",
    "            return trajectory(origen)\n",
    "        # si se alcanzo la profundidad de la cota \n",
    "        # podemos concluir que no encontramos la meta\n",
    "        # (los sucesores superarían la cota)\n",
    "        if(origen.depth == prof_max):\n",
    "            # regresamos None\n",
    "            return None\n",
    "        # hacemos la expansión\n",
    "        for hijo in origen.expand():\n",
    "            # para cada sucesor (hijo)\n",
    "            # establecemos una nueva búsqueda,\n",
    "            # donde el sucesor es el nuevo estado inicial\n",
    "            r = DLS.search(hijo,stop,prof_max)\n",
    "            # si encontramos una ruta la regresamos\n",
    "            if r :\n",
    "                return r"
   ]
  },
  {
   "cell_type": "markdown",
   "metadata": {},
   "source": [
    "¿Dónde están las estructuras de datos?\n",
    "La agenda es una pila. Cuando hacemos una invocación recursiva Python genera una pila de invocaciones, por lo que la agenda es implícita.\n",
    "En DLS no tenemos conjunto de expandidos."
   ]
  },
  {
   "cell_type": "markdown",
   "metadata": {},
   "source": [
    "Antes de probar el algoritmo.\n",
    "Vamos a establecer la semilla del generador de números aleatorios con un valor determinado.\n",
    "De esta manera podremos hacer repetible los experimentos."
   ]
  },
  {
   "cell_type": "code",
   "execution_count": 35,
   "metadata": {},
   "outputs": [
    {
     "name": "stdout",
     "output_type": "stream",
     "text": [
      "rompecabezas revuelto: \n",
      " 1 2 3 4\n",
      " 5 6 0 7\n",
      " 9 a c 8\n",
      " d e b f\n",
      "\n",
      "\n"
     ]
    }
   ],
   "source": [
    "from random import seed\n",
    "import random\n",
    "# Inicializamos el generador\n",
    "seed(1)\n",
    "\n",
    "# Creamos un rompecabezas ordenado\n",
    "puzzle  = Puzzle()\n",
    "\n",
    "# Desordenamos 5 movimientos aleatorios\n",
    "puzzle.shuffle(5)\n",
    "print(\"rompecabezas revuelto:\",puzzle)"
   ]
  },
  {
   "cell_type": "markdown",
   "metadata": {},
   "source": [
    "Procedemos a ordenarlo usando el algoritmo BFS, de esa manera sabemos la profundidad de la solución."
   ]
  },
  {
   "cell_type": "code",
   "execution_count": 36,
   "metadata": {},
   "outputs": [
    {
     "name": "stdout",
     "output_type": "stream",
     "text": [
      "profundidad de la solución:  5\n"
     ]
    }
   ],
   "source": [
    "# Encontramos la profundidad de la solución usando BFS\n",
    "# restamos 1 por que la profundidad es el número de acciones\n",
    "prof = len(BFS.search(puzzle,lambda s:s==Puzzle())) - 1\n",
    "print(\"profundidad de la solución: \",prof)"
   ]
  },
  {
   "cell_type": "markdown",
   "metadata": {},
   "source": [
    "Observamos que la profundidad de la solución es 5.\n",
    "Si resolvemos con DLS indicando una profundidad de 5 deberíamos encontrar la solución."
   ]
  },
  {
   "cell_type": "code",
   "execution_count": 37,
   "metadata": {},
   "outputs": [
    {
     "name": "stdout",
     "output_type": "stream",
     "text": [
      "[\n",
      " 1 2 3 4\n",
      " 5 6 0 7\n",
      " 9 a c 8\n",
      " d e b f\n",
      "\n",
      ", \n",
      " 1 2 3 4\n",
      " 5 6 7 0\n",
      " 9 a c 8\n",
      " d e b f\n",
      "\n",
      ", \n",
      " 1 2 3 4\n",
      " 5 6 7 8\n",
      " 9 a c 0\n",
      " d e b f\n",
      "\n",
      ", \n",
      " 1 2 3 4\n",
      " 5 6 7 8\n",
      " 9 a 0 c\n",
      " d e b f\n",
      "\n",
      ", \n",
      " 1 2 3 4\n",
      " 5 6 7 8\n",
      " 9 a b c\n",
      " d e 0 f\n",
      "\n",
      ", \n",
      " 1 2 3 4\n",
      " 5 6 7 8\n",
      " 9 a b c\n",
      " d e f 0\n",
      "\n",
      "]\n",
      "profundidad de la solución:  5\n"
     ]
    }
   ],
   "source": [
    "# la cota de DLS se establece a 5 y se invoca\n",
    "ruta = DLS.search(puzzle,lambda s:s==Puzzle(),prof_max=5)\n",
    "print(ruta)\n",
    "print(\"profundidad de la solución: \",len(ruta)-1)"
   ]
  },
  {
   "cell_type": "markdown",
   "metadata": {},
   "source": [
    "Observamos que DLS encuentra la ruta.\n",
    "Si la cota es menor que la profundidad de la ruta DLS no la podrá encontrar."
   ]
  },
  {
   "cell_type": "code",
   "execution_count": 38,
   "metadata": {},
   "outputs": [
    {
     "name": "stdout",
     "output_type": "stream",
     "text": [
      "None\n"
     ]
    }
   ],
   "source": [
    "# la cota de DLS se establece a 4 y se invoca\n",
    "ruta = DLS.search(puzzle,lambda s:s==Puzzle(),prof_max=4)\n",
    "print(ruta)"
   ]
  },
  {
   "cell_type": "markdown",
   "metadata": {},
   "source": [
    "Se observa que DLS es un algoritmo incompleto.\n",
    "¿Ahora que pasa si establecemos una cota superior a la profundidad de la solución?"
   ]
  },
  {
   "cell_type": "code",
   "execution_count": 39,
   "metadata": {},
   "outputs": [
    {
     "name": "stdout",
     "output_type": "stream",
     "text": [
      "[\n",
      " 1 2 3 4\n",
      " 5 6 0 7\n",
      " 9 a c 8\n",
      " d e b f\n",
      "\n",
      ", \n",
      " 1 2 3 4\n",
      " 5 6 7 0\n",
      " 9 a c 8\n",
      " d e b f\n",
      "\n",
      ", \n",
      " 1 2 3 4\n",
      " 5 6 7 8\n",
      " 9 a c 0\n",
      " d e b f\n",
      "\n",
      ", \n",
      " 1 2 3 4\n",
      " 5 6 7 8\n",
      " 9 a 0 c\n",
      " d e b f\n",
      "\n",
      ", \n",
      " 1 2 3 4\n",
      " 5 6 7 8\n",
      " 9 0 a c\n",
      " d e b f\n",
      "\n",
      ", \n",
      " 1 2 3 4\n",
      " 5 6 7 8\n",
      " 9 e a c\n",
      " d 0 b f\n",
      "\n",
      ", \n",
      " 1 2 3 4\n",
      " 5 6 7 8\n",
      " 9 e a c\n",
      " d b 0 f\n",
      "\n",
      ", \n",
      " 1 2 3 4\n",
      " 5 6 7 8\n",
      " 9 e 0 c\n",
      " d b a f\n",
      "\n",
      ", \n",
      " 1 2 3 4\n",
      " 5 6 7 8\n",
      " 9 0 e c\n",
      " d b a f\n",
      "\n",
      ", \n",
      " 1 2 3 4\n",
      " 5 6 7 8\n",
      " 9 b e c\n",
      " d 0 a f\n",
      "\n",
      ", \n",
      " 1 2 3 4\n",
      " 5 6 7 8\n",
      " 9 b e c\n",
      " d a 0 f\n",
      "\n",
      ", \n",
      " 1 2 3 4\n",
      " 5 6 7 8\n",
      " 9 b 0 c\n",
      " d a e f\n",
      "\n",
      ", \n",
      " 1 2 3 4\n",
      " 5 6 7 8\n",
      " 9 0 b c\n",
      " d a e f\n",
      "\n",
      ", \n",
      " 1 2 3 4\n",
      " 5 6 7 8\n",
      " 9 a b c\n",
      " d 0 e f\n",
      "\n",
      ", \n",
      " 1 2 3 4\n",
      " 5 6 7 8\n",
      " 9 a b c\n",
      " d e 0 f\n",
      "\n",
      ", \n",
      " 1 2 3 4\n",
      " 5 6 7 8\n",
      " 9 a b c\n",
      " d e f 0\n",
      "\n",
      "]\n",
      "profundidad de la solución:  15\n"
     ]
    }
   ],
   "source": [
    "# la cota de DLS se establece a 15 y se invoca\n",
    "ruta = DLS.search(puzzle,lambda s:s==Puzzle(),prof_max=15)\n",
    "print(ruta)\n",
    "print(\"profundidad de la solución: \",len(ruta)-1)"
   ]
  },
  {
   "cell_type": "markdown",
   "metadata": {},
   "source": [
    "Concluimos que DLS __NO GARANTIZA__ la solución óptima en número de pasos si la cota es superior a la profundidad de la solución."
   ]
  },
  {
   "cell_type": "markdown",
   "metadata": {},
   "source": [
    "## Algoritmo ID"
   ]
  },
  {
   "cell_type": "markdown",
   "metadata": {},
   "source": [
    "En el algoritmo de profundidad iterada hacemos invocaciones a DLS incrementando la cota de uno en uno hasta encontrar la meta."
   ]
  },
  {
   "cell_type": "code",
   "execution_count": 40,
   "metadata": {},
   "outputs": [],
   "source": [
    "class ID:\n",
    "    \"\"\"\n",
    "    Implementación del algoritmo de profundidad limitada\n",
    "    \"\"\"\n",
    "    @staticmethod\n",
    "    def search(origen,stop):\n",
    "        \"\"\"\n",
    "        Método de búsqueda\n",
    "        :param origen: el estado inicial\n",
    "        :param stop: la función de paro\n",
    "        :param prof_max: la cota de profundidad\n",
    "        \"\"\"\n",
    "        # condición base si el origen es la meta nos detenemos\n",
    "        # recuperando la ruta\n",
    "        if(stop(origen)):\n",
    "            return trajectory(origen)\n",
    "        # establecemos la cota de profundidad\n",
    "        cota = 1\n",
    "        # no tenemos el resultado\n",
    "        resultado = None\n",
    "        while not resultado:\n",
    "            resultado = DLS.search(origen,stop,cota)\n",
    "            cota +=1\n",
    "        return resultado"
   ]
  },
  {
   "cell_type": "code",
   "execution_count": 41,
   "metadata": {},
   "outputs": [
    {
     "name": "stdout",
     "output_type": "stream",
     "text": [
      "[\n",
      " 1 2 3 4\n",
      " 5 6 0 7\n",
      " 9 a c 8\n",
      " d e b f\n",
      "\n",
      ", \n",
      " 1 2 3 4\n",
      " 5 6 7 0\n",
      " 9 a c 8\n",
      " d e b f\n",
      "\n",
      ", \n",
      " 1 2 3 4\n",
      " 5 6 7 8\n",
      " 9 a c 0\n",
      " d e b f\n",
      "\n",
      ", \n",
      " 1 2 3 4\n",
      " 5 6 7 8\n",
      " 9 a 0 c\n",
      " d e b f\n",
      "\n",
      ", \n",
      " 1 2 3 4\n",
      " 5 6 7 8\n",
      " 9 a b c\n",
      " d e 0 f\n",
      "\n",
      ", \n",
      " 1 2 3 4\n",
      " 5 6 7 8\n",
      " 9 a b c\n",
      " d e f 0\n",
      "\n",
      "]\n",
      "profundidad de la solución: 5\n"
     ]
    }
   ],
   "source": [
    "#probemos si ID puede encontrar la solución óptima en nuestro ejemplo\n",
    "ruta = ID.search(puzzle,lambda s:s==Puzzle())\n",
    "print(ruta)\n",
    "print(\"profundidad de la solución:\",len(ruta)-1)"
   ]
  },
  {
   "cell_type": "markdown",
   "metadata": {},
   "source": [
    "Concluimos que ID puede encontrar la solución óptima."
   ]
  }
 ],
 "metadata": {
  "kernelspec": {
   "display_name": "Python 3",
   "language": "python",
   "name": "python3"
  },
  "language_info": {
   "codemirror_mode": {
    "name": "ipython",
    "version": 3
   },
   "file_extension": ".py",
   "mimetype": "text/x-python",
   "name": "python",
   "nbconvert_exporter": "python",
   "pygments_lexer": "ipython3",
   "version": "3.8.3"
  }
 },
 "nbformat": 4,
 "nbformat_minor": 2
}
